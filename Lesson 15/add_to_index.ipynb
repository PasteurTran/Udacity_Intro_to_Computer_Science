{
 "cells": [
  {
   "cell_type": "code",
   "execution_count": null,
   "metadata": {
    "collapsed": true
   },
   "outputs": [],
   "source": [
    "# Define a procedure, add_to_index,\n",
    "# that takes 3 inputs:\n",
    "\n",
    "# - an index: [[<keyword>,[<url>,...]],...]\n",
    "# - a keyword: String\n",
    "# - a url: String\n",
    "\n",
    "# If the keyword is already\n",
    "# in the index, add the url\n",
    "# to the list of urls associated\n",
    "# with that keyword.\n",
    "\n",
    "# If the keyword is not in the index,\n",
    "# add an entry to the index: [keyword,[url]]\n",
    "\n",
    "index = []\n",
    "\n",
    "def add_to_index(index,keyword,url):\n",
    "    urladded = 0\n",
    "    for lists in index:\n",
    "        if lists[0] == keyword:\n",
    "            if(lists[0] != None):\n",
    "                lists[1].append(url)\n",
    "                urladded = 1\n",
    "                break\n",
    "            else:\n",
    "                items[1] = [url]\n",
    "                urladded = 1\n",
    "                break\n",
    "            \n",
    "    if(urladded == 0):\n",
    "        ## means we didnt add, so we have to add BOTH elements to index\n",
    "        index.append([keyword, [url]]);\n",
    "            \n",
    "\n",
    "    \n",
    "    \n",
    "\n",
    "\n",
    "\n",
    "\n",
    "\n",
    "add_to_index(index,'udacity','http://udacity.com')\n",
    "add_to_index(index,'computing','http://acm.org')\n",
    "#print index\n",
    "add_to_index(index,'udacity','http://npr.org')\n",
    "print index\n",
    "#>>> [['udacity', ['http://udacity.com', 'http://npr.org']], \n",
    "#>>> ['computing', ['http://acm.org']]]\n",
    "\n",
    "\n"
   ]
  }
 ],
 "metadata": {
  "kernelspec": {
   "display_name": "Python 3",
   "language": "python",
   "name": "python3"
  },
  "language_info": {
   "codemirror_mode": {
    "name": "ipython",
    "version": 3
   },
   "file_extension": ".py",
   "mimetype": "text/x-python",
   "name": "python",
   "nbconvert_exporter": "python",
   "pygments_lexer": "ipython3",
   "version": "3.6.0"
  }
 },
 "nbformat": 4,
 "nbformat_minor": 2
}
