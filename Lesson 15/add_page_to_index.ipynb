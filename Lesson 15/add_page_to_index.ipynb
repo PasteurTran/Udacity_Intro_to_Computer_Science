{
 "cells": [
  {
   "cell_type": "code",
   "execution_count": null,
   "metadata": {
    "collapsed": true
   },
   "outputs": [],
   "source": [
    "# Define a procedure, add_page_to_index,\n",
    "# that takes three inputs:\n",
    "\n",
    "#   - index\n",
    "#   - url (String)\n",
    "#   - content (String)\n",
    "\n",
    "# It should update the index to include\n",
    "# all of the word occurences found in the\n",
    "# page content by adding the url to the\n",
    "# word's associated url list.\n",
    "\n",
    "index = []\n",
    "\n",
    "\n",
    "def add_to_index(index,keyword,url):\n",
    "    for entry in index:\n",
    "        if entry[0] == keyword:\n",
    "            entry[1].append(url)\n",
    "            return\n",
    "    index.append([keyword,[url]])\n",
    "\n",
    "def add_page_to_index(index,url,content):\n",
    "    splitted = content.split()\n",
    "\n",
    "    for splitItems in splitted:\n",
    "        add_to_index(index, splitItems, url)\n",
    "           \n",
    "\n",
    "\n",
    "\n",
    "\n",
    "add_page_to_index(index,'fake.text',\"This is a test\")\n",
    "print index\n",
    "#>>> [['This', ['fake.text']], ['is', ['fake.text']], ['a', ['fake.text']],\n",
    "#>>> ['test',['fake.text']]]\n",
    "\n",
    "\n"
   ]
  }
 ],
 "metadata": {
  "kernelspec": {
   "display_name": "Python 3",
   "language": "python",
   "name": "python3"
  },
  "language_info": {
   "codemirror_mode": {
    "name": "ipython",
    "version": 3
   },
   "file_extension": ".py",
   "mimetype": "text/x-python",
   "name": "python",
   "nbconvert_exporter": "python",
   "pygments_lexer": "ipython3",
   "version": "3.6.0"
  }
 },
 "nbformat": 4,
 "nbformat_minor": 2
}
