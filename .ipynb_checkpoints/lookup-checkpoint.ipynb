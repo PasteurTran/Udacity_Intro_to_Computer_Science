{
 "cells": [
  {
   "cell_type": "code",
   "execution_count": null,
   "metadata": {
    "collapsed": true
   },
   "outputs": [],
   "source": [
    "# Define a procedure, lookup,\n",
    "# that takes two inputs:\n",
    "\n",
    "# - an index\n",
    "# - keyword\n",
    "\n",
    "# The procedure should return a list\n",
    "# of the urls associated\n",
    "# with the keyword. If the keyword\n",
    "# is not in the index, the procedure\n",
    "# should return an empty list.\n",
    "\n",
    "index = [['udacity', ['http://udacity.com', 'http://npr.org']],\n",
    "         ['computing', ['http://acm.org']]]\n",
    "\n",
    "def lookup(index,keyword):\n",
    "    for items in index:\n",
    "        if (items[0] == keyword):\n",
    "            return items[1]\n",
    "    return [];\n",
    "\n",
    "\n",
    "\n",
    "\n",
    "\n",
    "\n",
    "print lookup(index,'udacity')\n",
    "#>>> ['http://udacity.com','http://npr.org']"
   ]
  }
 ],
 "metadata": {
  "kernelspec": {
   "display_name": "Python 3",
   "language": "python",
   "name": "python3"
  },
  "language_info": {
   "codemirror_mode": {
    "name": "ipython",
    "version": 3
   },
   "file_extension": ".py",
   "mimetype": "text/x-python",
   "name": "python",
   "nbconvert_exporter": "python",
   "pygments_lexer": "ipython3",
   "version": "3.6.0"
  }
 },
 "nbformat": 4,
 "nbformat_minor": 2
}
